{
 "cells": [
  {
   "cell_type": "code",
   "execution_count": 23,
   "metadata": {},
   "outputs": [],
   "source": [
    "import pandas as pd\n",
    "from openai import OpenAI\n",
    "import sys\n",
    "sys.path.append('C:/Users/vishw/OneDrive/Desktop/Projects/auto_negotiator/Utilities')\n",
    "import numpy as np\n",
    "import plotly.express as px\n",
    "from sklearn.manifold import TSNE\n",
    "\n",
    "# Create a t-SNE model\n",
    "tsne_model = TSNE(\n",
    "    n_components = 2,\n",
    "    perplexity = 15,\n",
    "    random_state = 42,\n",
    "    init = 'random',\n",
    "    learning_rate = 200\n",
    ")\n",
    "# tsne_embeddings = tsne_model.fit_transform(embedding_array)"
   ]
  },
  {
   "cell_type": "code",
   "execution_count": 41,
   "metadata": {},
   "outputs": [],
   "source": [
    "from get_Similarity import *\n",
    "def cosine_similarity(a, b):\n",
    "    return np.dot(a, b) / (np.linalg.norm(a) * np.linalg.norm(b))"
   ]
  },
  {
   "cell_type": "code",
   "execution_count": 17,
   "metadata": {},
   "outputs": [],
   "source": [
    "client = OpenAI(api_key=key['openai_api_key'])"
   ]
  },
  {
   "cell_type": "code",
   "execution_count": 39,
   "metadata": {},
   "outputs": [],
   "source": [
    "embedding = client.embeddings.create(input=list(vendor['description'].values), model='text-embedding-ada-002')\n",
    "vendor_emb_array = np.array([i.embedding for i in embedding.data]).shape\n",
    "text_embedding = client.embeddings.create(input=['Green mugs with company logo'], model='text-embedding-ada-002').data[0].embedding"
   ]
  },
  {
   "cell_type": "code",
   "execution_count": 53,
   "metadata": {},
   "outputs": [],
   "source": [
    "## calculate similarity of text embedding with all the vendor embeddings\n",
    "similarity = []\n",
    "for i in range(vendor_emb_array[0]):\n",
    "    similarity.append(cosine_similarity(text_embedding, np.array([i.embedding for i in embedding.data])[i]))\n",
    "\n",
    "## Min Max Normalization\n",
    "similarity = (similarity - min(similarity))/(max(similarity) - min(similarity))"
   ]
  },
  {
   "cell_type": "code",
   "execution_count": 65,
   "metadata": {},
   "outputs": [],
   "source": [
    "## Reduce the dimensionality of the embeddings to 2D using t-SNE\n",
    "tsne_embeddings = tsne_model.fit_transform(np.array([i.embedding for i in embedding.data]))\n"
   ]
  },
  {
   "cell_type": "code",
   "execution_count": 66,
   "metadata": {},
   "outputs": [],
   "source": [
    "vendor['x'] = tsne_embeddings[:, 0]\n",
    "vendor['y'] = tsne_embeddings[:, 1]"
   ]
  },
  {
   "cell_type": "code",
   "execution_count": 72,
   "metadata": {},
   "outputs": [
    {
     "data": {
      "application/vnd.plotly.v1+json": {
       "config": {
        "plotlyServerURL": "https://plot.ly"
       },
       "data": [
        {
         "customdata": [
          [
           "Brown-Martinez",
           "Provides Office sofas and more for office needs."
          ],
          [
           "Wall LLC",
           "Provides Security cameras and more for office needs."
          ],
          [
           "Cook, Frederick and Stephens",
           "Provides Artwork, Decorative lighting, Aquariums and more for office needs."
          ],
          [
           "Williamson and Sons",
           "Provides Indoor plants, Artwork and more for office needs."
          ],
          [
           "Palmer Group",
           "Provides Office sofas and more for office needs."
          ],
          [
           "Flowers, Williams and Davis",
           "Provides Aquariums, Decorative lighting and more for office needs."
          ],
          [
           "Powell, Proctor and Pierce",
           "Provides Coffee machines and more for office needs."
          ],
          [
           "Dennis, Rush and Combs",
           "Provides Designer notebooks and more for office needs."
          ],
          [
           "Williams, Phelps and Mcmahon",
           "Provides Designer notebooks and more for office needs."
          ],
          [
           "Wright, Mcmahon and Hooper",
           "Provides Designer notebooks, Custom planners and more for office needs."
          ],
          [
           "Duncan, Dean and Brady",
           "Provides Smart whiteboards, High-performance laptops, Projectors and more for office needs."
          ],
          [
           "Howell PLC",
           "Provides Ergonomic chairs and more for office needs."
          ],
          [
           "Martin-Brewer",
           "Provides Office sofas, Standing desks, Conference tables and more for office needs."
          ],
          [
           "Castro Group",
           "Provides Multi-function printers, Smart whiteboards, High-performance laptops and more for office needs."
          ],
          [
           "Scott PLC",
           "Provides Water coolers, Microwave ovens and more for office needs."
          ],
          [
           "Skinner-Ochoa",
           "Provides Office sofas and more for office needs."
          ],
          [
           "Hansen Ltd",
           "Standing desks, Office sofas and more for office needs."
          ],
          [
           "Scott and Sons",
           "Coffee machines and more for office needs."
          ],
          [
           "Quinn Inc",
           "Eco-friendly pens, Custom planners, Desk organizers and more for office needs."
          ],
          [
           "Miller-King",
           "Smart whiteboards and more for office needs."
          ],
          [
           "Jennings, Li and Parker",
           "Specializes in Smartphones, Laptops."
          ],
          [
           "Pham-Goodwin",
           "Specializes in Office Cleaning, Window Cleaning, Waste Management."
          ],
          [
           "Li-Gardner",
           "Specializes in Window Cleaning, Waste Management, Office Cleaning."
          ],
          [
           "Garza-Valdez",
           "Specializes in Beverages, Office Snacks, Event Catering."
          ],
          [
           "Hall LLC",
           "Specializes in Office Snacks, Beverages, Event Catering."
          ],
          [
           "Berger, Payne and Griffith",
           "Specializes in IT Support, Software Development, Network Security."
          ],
          [
           "Wright, May and White",
           "Specializes in IT Support, Software Development, Network Security."
          ],
          [
           "Blevins, Clark and Ritter",
           "Specializes in Smartphones, Laptops."
          ],
          [
           "Miller and Sons",
           "Specializes in Window Cleaning, Waste Management, Office Cleaning."
          ],
          [
           "Taylor-Cole",
           "Specializes in Notebooks, Chairs, Printers."
          ],
          [
           "Huber, Cunningham and Levy",
           "Specializes in Beverages, Event Catering, Office Snacks."
          ],
          [
           "Davis LLC",
           "Specializes in Cameras, Laptops."
          ],
          [
           "Howard, Daniel and Hamilton",
           "Offers Glassware sets for promotional and giveaway purposes."
          ],
          [
           "Tyler, Diaz and Turner",
           "Offers Fitness trackers, Bluetooth speakers for promotional and giveaway purposes."
          ],
          [
           "Wyatt PLC",
           "Offers Fidget spinners, Mini drones, Custom playing cards for promotional and giveaway purposes."
          ],
          [
           "Rose, Oneal and Ross",
           "Offers Silicone wristbands, Custom T-shirts for promotional and giveaway purposes."
          ],
          [
           "Daniels, Barnett and Obrien",
           "Offers Glassware sets, Travel tumblers, Insulated water bottles for promotional and giveaway purposes."
          ],
          [
           "Cole-Miller",
           "Offers Branded notebooks, Stylus pens, Desk calendars for promotional and giveaway purposes."
          ],
          [
           "Carroll-Nichols",
           "Offers Bamboo toothbrushes, Biodegradable pens, Organic cotton bags for promotional and giveaway purposes."
          ],
          [
           "Arnold, James and Terry",
           "Offers Insulated water bottles for promotional and giveaway purposes."
          ],
          [
           "Barnes-Chavez",
           "Offers Custom T-shirts, Silicone wristbands, Sunglasses for promotional and giveaway purposes."
          ],
          [
           "Bennett, Hansen and Miller",
           "Offers Glassware sets, Insulated water bottles for promotional and giveaway purposes."
          ],
          [
           "Price Group",
           "Offers Fitness trackers, Bluetooth speakers for promotional and giveaway purposes."
          ],
          [
           "Kane-Goodwin",
           "Offers Embroidered hats for promotional and giveaway purposes."
          ],
          [
           "Young and Sons",
           "Offers Custom mugs, Insulated water bottles for promotional and giveaway purposes."
          ],
          [
           "Parker LLC",
           "Offers Fitness trackers, Wireless chargers, USB drives for promotional and giveaway purposes."
          ],
          [
           "Mitchell, Johnson and Mcclure",
           "Offers Desk calendars for promotional and giveaway purposes."
          ],
          [
           "Sanders PLC",
           "Offers Custom mugs, Glassware sets for promotional and giveaway purposes."
          ],
          [
           "Summers-Fletcher",
           "Offers Bamboo toothbrushes for promotional and giveaway purposes."
          ],
          [
           "Gentry PLC",
           "Offers Reusable straws, Biodegradable pens for promotional and giveaway purposes."
          ],
          [
           "Gordon-Branch",
           "Offers Custom playing cards, Mini drones, Fidget spinners for promotional and giveaway purposes."
          ],
          [
           "Johnson Group",
           "Offers Travel tumblers, Insulated water bottles for promotional and giveaway purposes."
          ]
         ],
         "hovertemplate": "x=%{x}<br>y=%{y}<br>name=%{customdata[0]}<br>description=%{customdata[1]}<br>color=%{marker.color}<extra></extra>",
         "legendgroup": "",
         "marker": {
          "color": [
           0.3591058347833671,
           0.1621787840240739,
           0.4034227014586464,
           0.470268356373893,
           0.3591058347833671,
           0.336023459605674,
           0.6273444255067036,
           0.3923064697985303,
           0.39233704304707495,
           0.37584710247490777,
           0.30432641246018977,
           0.4146424330171076,
           0.36161501502313986,
           0.31044267643941487,
           0.42203655789387906,
           0.3585166521640507,
           0.3730970970019006,
           0.6421845756666428,
           0.6707673383694764,
           0.41965331528136757,
           0.17116261240546707,
           0.252940130003523,
           0.2475215716703179,
           0.36451393746585287,
           0.3760154213015716,
           0,
           0,
           0.17095931873837197,
           0.24763243544209923,
           0.3782827595037139,
           0.3664641161696531,
           0.17456981802574384,
           0.7006180843187542,
           0.22748547348026574,
           0.2569594291361916,
           0.3122026832131681,
           0.6856549117139991,
           0.4917778362333488,
           0.48020280213459576,
           0.5921990723041005,
           0.49610358698810825,
           0.6847775348156405,
           0.22748547348026574,
           0.3921375684010956,
           0.9437143923218867,
           0.1810573936554732,
           0.3871087778492489,
           1,
           0.3787873778008335,
           0.5812008989453751,
           0.26808370427220396,
           0.6333087826533015
          ],
          "coloraxis": "coloraxis",
          "size": 12,
          "symbol": "x"
         },
         "mode": "markers",
         "name": "",
         "orientation": "v",
         "showlegend": false,
         "type": "scatter",
         "x": [
          57.997444,
          27.158918,
          95.572365,
          110.42933,
          68.40218,
          98.7379,
          39.285767,
          -29.880466,
          -10.937507,
          -22.628279,
          -12.591606,
          60.851757,
          71.98861,
          -30.735151,
          45.12574,
          82.12411,
          44.160877,
          21.96943,
          -5.109467,
          -9.408988,
          -103.92114,
          -122.71796,
          -129.79675,
          -64.433334,
          -45.967293,
          -156.77783,
          -160.26375,
          -115.527,
          -143.23283,
          -74.65875,
          -64.13751,
          -95.5335,
          49.46328,
          13.401804,
          -88.70594,
          -6.4351354,
          47.661896,
          -25.641525,
          -53.02218,
          66.2156,
          -11.32164,
          66.280106,
          22.405363,
          -15.217683,
          23.464792,
          -1.6320877,
          -40.620205,
          24.68162,
          -47.414383,
          -48.73137,
          -75.52023,
          41.81157
         ],
         "xaxis": "x",
         "y": [
          -89.70812,
          -76.41113,
          -37.547054,
          -56.15919,
          -72.09031,
          -20.100157,
          -46.60317,
          -28.24361,
          -26.10901,
          -6.5376577,
          -80.69826,
          -134.73074,
          -109.71678,
          -75.79507,
          -22.35416,
          -88.55371,
          -112.2014,
          -42.69183,
          13.767144,
          -101.2265,
          -52.261063,
          -140.31522,
          -160.12941,
          -167.66504,
          -158.20589,
          -85.21211,
          -68.74308,
          -65.29945,
          -144.85234,
          -58.1072,
          -147.37518,
          -77.30717,
          82.09645,
          186.46074,
          108.23576,
          143.51459,
          110.809654,
          46.617496,
          161.4873,
          131.75812,
          126.44803,
          102.04414,
          201.69768,
          98.304405,
          114.76015,
          204.95517,
          55.884766,
          88.59565,
          178.82472,
          138.0592,
          98.22273,
          133.93652
         ],
         "yaxis": "y"
        }
       ],
       "layout": {
        "coloraxis": {
         "colorbar": {
          "title": {
           "text": "color"
          }
         },
         "colorscale": [
          [
           0,
           "rgb(103,0,31)"
          ],
          [
           0.1,
           "rgb(178,24,43)"
          ],
          [
           0.2,
           "rgb(214,96,77)"
          ],
          [
           0.3,
           "rgb(244,165,130)"
          ],
          [
           0.4,
           "rgb(253,219,199)"
          ],
          [
           0.5,
           "rgb(247,247,247)"
          ],
          [
           0.6,
           "rgb(209,229,240)"
          ],
          [
           0.7,
           "rgb(146,197,222)"
          ],
          [
           0.8,
           "rgb(67,147,195)"
          ],
          [
           0.9,
           "rgb(33,102,172)"
          ],
          [
           1,
           "rgb(5,48,97)"
          ]
         ]
        },
        "height": 800,
        "legend": {
         "tracegroupgap": 0
        },
        "margin": {
         "t": 60
        },
        "template": {
         "data": {
          "bar": [
           {
            "error_x": {
             "color": "#2a3f5f"
            },
            "error_y": {
             "color": "#2a3f5f"
            },
            "marker": {
             "line": {
              "color": "white",
              "width": 0.5
             },
             "pattern": {
              "fillmode": "overlay",
              "size": 10,
              "solidity": 0.2
             }
            },
            "type": "bar"
           }
          ],
          "barpolar": [
           {
            "marker": {
             "line": {
              "color": "white",
              "width": 0.5
             },
             "pattern": {
              "fillmode": "overlay",
              "size": 10,
              "solidity": 0.2
             }
            },
            "type": "barpolar"
           }
          ],
          "carpet": [
           {
            "aaxis": {
             "endlinecolor": "#2a3f5f",
             "gridcolor": "#C8D4E3",
             "linecolor": "#C8D4E3",
             "minorgridcolor": "#C8D4E3",
             "startlinecolor": "#2a3f5f"
            },
            "baxis": {
             "endlinecolor": "#2a3f5f",
             "gridcolor": "#C8D4E3",
             "linecolor": "#C8D4E3",
             "minorgridcolor": "#C8D4E3",
             "startlinecolor": "#2a3f5f"
            },
            "type": "carpet"
           }
          ],
          "choropleth": [
           {
            "colorbar": {
             "outlinewidth": 0,
             "ticks": ""
            },
            "type": "choropleth"
           }
          ],
          "contour": [
           {
            "colorbar": {
             "outlinewidth": 0,
             "ticks": ""
            },
            "colorscale": [
             [
              0,
              "#0d0887"
             ],
             [
              0.1111111111111111,
              "#46039f"
             ],
             [
              0.2222222222222222,
              "#7201a8"
             ],
             [
              0.3333333333333333,
              "#9c179e"
             ],
             [
              0.4444444444444444,
              "#bd3786"
             ],
             [
              0.5555555555555556,
              "#d8576b"
             ],
             [
              0.6666666666666666,
              "#ed7953"
             ],
             [
              0.7777777777777778,
              "#fb9f3a"
             ],
             [
              0.8888888888888888,
              "#fdca26"
             ],
             [
              1,
              "#f0f921"
             ]
            ],
            "type": "contour"
           }
          ],
          "contourcarpet": [
           {
            "colorbar": {
             "outlinewidth": 0,
             "ticks": ""
            },
            "type": "contourcarpet"
           }
          ],
          "heatmap": [
           {
            "colorbar": {
             "outlinewidth": 0,
             "ticks": ""
            },
            "colorscale": [
             [
              0,
              "#0d0887"
             ],
             [
              0.1111111111111111,
              "#46039f"
             ],
             [
              0.2222222222222222,
              "#7201a8"
             ],
             [
              0.3333333333333333,
              "#9c179e"
             ],
             [
              0.4444444444444444,
              "#bd3786"
             ],
             [
              0.5555555555555556,
              "#d8576b"
             ],
             [
              0.6666666666666666,
              "#ed7953"
             ],
             [
              0.7777777777777778,
              "#fb9f3a"
             ],
             [
              0.8888888888888888,
              "#fdca26"
             ],
             [
              1,
              "#f0f921"
             ]
            ],
            "type": "heatmap"
           }
          ],
          "heatmapgl": [
           {
            "colorbar": {
             "outlinewidth": 0,
             "ticks": ""
            },
            "colorscale": [
             [
              0,
              "#0d0887"
             ],
             [
              0.1111111111111111,
              "#46039f"
             ],
             [
              0.2222222222222222,
              "#7201a8"
             ],
             [
              0.3333333333333333,
              "#9c179e"
             ],
             [
              0.4444444444444444,
              "#bd3786"
             ],
             [
              0.5555555555555556,
              "#d8576b"
             ],
             [
              0.6666666666666666,
              "#ed7953"
             ],
             [
              0.7777777777777778,
              "#fb9f3a"
             ],
             [
              0.8888888888888888,
              "#fdca26"
             ],
             [
              1,
              "#f0f921"
             ]
            ],
            "type": "heatmapgl"
           }
          ],
          "histogram": [
           {
            "marker": {
             "pattern": {
              "fillmode": "overlay",
              "size": 10,
              "solidity": 0.2
             }
            },
            "type": "histogram"
           }
          ],
          "histogram2d": [
           {
            "colorbar": {
             "outlinewidth": 0,
             "ticks": ""
            },
            "colorscale": [
             [
              0,
              "#0d0887"
             ],
             [
              0.1111111111111111,
              "#46039f"
             ],
             [
              0.2222222222222222,
              "#7201a8"
             ],
             [
              0.3333333333333333,
              "#9c179e"
             ],
             [
              0.4444444444444444,
              "#bd3786"
             ],
             [
              0.5555555555555556,
              "#d8576b"
             ],
             [
              0.6666666666666666,
              "#ed7953"
             ],
             [
              0.7777777777777778,
              "#fb9f3a"
             ],
             [
              0.8888888888888888,
              "#fdca26"
             ],
             [
              1,
              "#f0f921"
             ]
            ],
            "type": "histogram2d"
           }
          ],
          "histogram2dcontour": [
           {
            "colorbar": {
             "outlinewidth": 0,
             "ticks": ""
            },
            "colorscale": [
             [
              0,
              "#0d0887"
             ],
             [
              0.1111111111111111,
              "#46039f"
             ],
             [
              0.2222222222222222,
              "#7201a8"
             ],
             [
              0.3333333333333333,
              "#9c179e"
             ],
             [
              0.4444444444444444,
              "#bd3786"
             ],
             [
              0.5555555555555556,
              "#d8576b"
             ],
             [
              0.6666666666666666,
              "#ed7953"
             ],
             [
              0.7777777777777778,
              "#fb9f3a"
             ],
             [
              0.8888888888888888,
              "#fdca26"
             ],
             [
              1,
              "#f0f921"
             ]
            ],
            "type": "histogram2dcontour"
           }
          ],
          "mesh3d": [
           {
            "colorbar": {
             "outlinewidth": 0,
             "ticks": ""
            },
            "type": "mesh3d"
           }
          ],
          "parcoords": [
           {
            "line": {
             "colorbar": {
              "outlinewidth": 0,
              "ticks": ""
             }
            },
            "type": "parcoords"
           }
          ],
          "pie": [
           {
            "automargin": true,
            "type": "pie"
           }
          ],
          "scatter": [
           {
            "fillpattern": {
             "fillmode": "overlay",
             "size": 10,
             "solidity": 0.2
            },
            "type": "scatter"
           }
          ],
          "scatter3d": [
           {
            "line": {
             "colorbar": {
              "outlinewidth": 0,
              "ticks": ""
             }
            },
            "marker": {
             "colorbar": {
              "outlinewidth": 0,
              "ticks": ""
             }
            },
            "type": "scatter3d"
           }
          ],
          "scattercarpet": [
           {
            "marker": {
             "colorbar": {
              "outlinewidth": 0,
              "ticks": ""
             }
            },
            "type": "scattercarpet"
           }
          ],
          "scattergeo": [
           {
            "marker": {
             "colorbar": {
              "outlinewidth": 0,
              "ticks": ""
             }
            },
            "type": "scattergeo"
           }
          ],
          "scattergl": [
           {
            "marker": {
             "colorbar": {
              "outlinewidth": 0,
              "ticks": ""
             }
            },
            "type": "scattergl"
           }
          ],
          "scattermapbox": [
           {
            "marker": {
             "colorbar": {
              "outlinewidth": 0,
              "ticks": ""
             }
            },
            "type": "scattermapbox"
           }
          ],
          "scatterpolar": [
           {
            "marker": {
             "colorbar": {
              "outlinewidth": 0,
              "ticks": ""
             }
            },
            "type": "scatterpolar"
           }
          ],
          "scatterpolargl": [
           {
            "marker": {
             "colorbar": {
              "outlinewidth": 0,
              "ticks": ""
             }
            },
            "type": "scatterpolargl"
           }
          ],
          "scatterternary": [
           {
            "marker": {
             "colorbar": {
              "outlinewidth": 0,
              "ticks": ""
             }
            },
            "type": "scatterternary"
           }
          ],
          "surface": [
           {
            "colorbar": {
             "outlinewidth": 0,
             "ticks": ""
            },
            "colorscale": [
             [
              0,
              "#0d0887"
             ],
             [
              0.1111111111111111,
              "#46039f"
             ],
             [
              0.2222222222222222,
              "#7201a8"
             ],
             [
              0.3333333333333333,
              "#9c179e"
             ],
             [
              0.4444444444444444,
              "#bd3786"
             ],
             [
              0.5555555555555556,
              "#d8576b"
             ],
             [
              0.6666666666666666,
              "#ed7953"
             ],
             [
              0.7777777777777778,
              "#fb9f3a"
             ],
             [
              0.8888888888888888,
              "#fdca26"
             ],
             [
              1,
              "#f0f921"
             ]
            ],
            "type": "surface"
           }
          ],
          "table": [
           {
            "cells": {
             "fill": {
              "color": "#EBF0F8"
             },
             "line": {
              "color": "white"
             }
            },
            "header": {
             "fill": {
              "color": "#C8D4E3"
             },
             "line": {
              "color": "white"
             }
            },
            "type": "table"
           }
          ]
         },
         "layout": {
          "annotationdefaults": {
           "arrowcolor": "#2a3f5f",
           "arrowhead": 0,
           "arrowwidth": 1
          },
          "autotypenumbers": "strict",
          "coloraxis": {
           "colorbar": {
            "outlinewidth": 0,
            "ticks": ""
           }
          },
          "colorscale": {
           "diverging": [
            [
             0,
             "#8e0152"
            ],
            [
             0.1,
             "#c51b7d"
            ],
            [
             0.2,
             "#de77ae"
            ],
            [
             0.3,
             "#f1b6da"
            ],
            [
             0.4,
             "#fde0ef"
            ],
            [
             0.5,
             "#f7f7f7"
            ],
            [
             0.6,
             "#e6f5d0"
            ],
            [
             0.7,
             "#b8e186"
            ],
            [
             0.8,
             "#7fbc41"
            ],
            [
             0.9,
             "#4d9221"
            ],
            [
             1,
             "#276419"
            ]
           ],
           "sequential": [
            [
             0,
             "#0d0887"
            ],
            [
             0.1111111111111111,
             "#46039f"
            ],
            [
             0.2222222222222222,
             "#7201a8"
            ],
            [
             0.3333333333333333,
             "#9c179e"
            ],
            [
             0.4444444444444444,
             "#bd3786"
            ],
            [
             0.5555555555555556,
             "#d8576b"
            ],
            [
             0.6666666666666666,
             "#ed7953"
            ],
            [
             0.7777777777777778,
             "#fb9f3a"
            ],
            [
             0.8888888888888888,
             "#fdca26"
            ],
            [
             1,
             "#f0f921"
            ]
           ],
           "sequentialminus": [
            [
             0,
             "#0d0887"
            ],
            [
             0.1111111111111111,
             "#46039f"
            ],
            [
             0.2222222222222222,
             "#7201a8"
            ],
            [
             0.3333333333333333,
             "#9c179e"
            ],
            [
             0.4444444444444444,
             "#bd3786"
            ],
            [
             0.5555555555555556,
             "#d8576b"
            ],
            [
             0.6666666666666666,
             "#ed7953"
            ],
            [
             0.7777777777777778,
             "#fb9f3a"
            ],
            [
             0.8888888888888888,
             "#fdca26"
            ],
            [
             1,
             "#f0f921"
            ]
           ]
          },
          "colorway": [
           "#636efa",
           "#EF553B",
           "#00cc96",
           "#ab63fa",
           "#FFA15A",
           "#19d3f3",
           "#FF6692",
           "#B6E880",
           "#FF97FF",
           "#FECB52"
          ],
          "font": {
           "color": "#2a3f5f"
          },
          "geo": {
           "bgcolor": "white",
           "lakecolor": "white",
           "landcolor": "white",
           "showlakes": true,
           "showland": true,
           "subunitcolor": "#C8D4E3"
          },
          "hoverlabel": {
           "align": "left"
          },
          "hovermode": "closest",
          "mapbox": {
           "style": "light"
          },
          "paper_bgcolor": "white",
          "plot_bgcolor": "white",
          "polar": {
           "angularaxis": {
            "gridcolor": "#EBF0F8",
            "linecolor": "#EBF0F8",
            "ticks": ""
           },
           "bgcolor": "white",
           "radialaxis": {
            "gridcolor": "#EBF0F8",
            "linecolor": "#EBF0F8",
            "ticks": ""
           }
          },
          "scene": {
           "xaxis": {
            "backgroundcolor": "white",
            "gridcolor": "#DFE8F3",
            "gridwidth": 2,
            "linecolor": "#EBF0F8",
            "showbackground": true,
            "ticks": "",
            "zerolinecolor": "#EBF0F8"
           },
           "yaxis": {
            "backgroundcolor": "white",
            "gridcolor": "#DFE8F3",
            "gridwidth": 2,
            "linecolor": "#EBF0F8",
            "showbackground": true,
            "ticks": "",
            "zerolinecolor": "#EBF0F8"
           },
           "zaxis": {
            "backgroundcolor": "white",
            "gridcolor": "#DFE8F3",
            "gridwidth": 2,
            "linecolor": "#EBF0F8",
            "showbackground": true,
            "ticks": "",
            "zerolinecolor": "#EBF0F8"
           }
          },
          "shapedefaults": {
           "line": {
            "color": "#2a3f5f"
           }
          },
          "ternary": {
           "aaxis": {
            "gridcolor": "#DFE8F3",
            "linecolor": "#A2B1C6",
            "ticks": ""
           },
           "baxis": {
            "gridcolor": "#DFE8F3",
            "linecolor": "#A2B1C6",
            "ticks": ""
           },
           "bgcolor": "white",
           "caxis": {
            "gridcolor": "#DFE8F3",
            "linecolor": "#A2B1C6",
            "ticks": ""
           }
          },
          "title": {
           "x": 0.05
          },
          "xaxis": {
           "automargin": true,
           "gridcolor": "#EBF0F8",
           "linecolor": "#EBF0F8",
           "ticks": "",
           "title": {
            "standoff": 15
           },
           "zerolinecolor": "#EBF0F8",
           "zerolinewidth": 2
          },
          "yaxis": {
           "automargin": true,
           "gridcolor": "#EBF0F8",
           "linecolor": "#EBF0F8",
           "ticks": "",
           "title": {
            "standoff": 15
           },
           "zerolinecolor": "#EBF0F8",
           "zerolinewidth": 2
          }
         }
        },
        "width": 800,
        "xaxis": {
         "anchor": "y",
         "domain": [
          0,
          1
         ],
         "title": {
          "text": "x"
         }
        },
        "yaxis": {
         "anchor": "x",
         "domain": [
          0,
          1
         ],
         "title": {
          "text": "y"
         }
        }
       }
      }
     },
     "metadata": {},
     "output_type": "display_data"
    }
   ],
   "source": [
    "## Scatter plot of the vendors \n",
    "fig = px.scatter(vendor, x='x', y='y', hover_data=['name','description'], color=similarity, color_continuous_scale='RdBu')\n",
    "## Increase marker size and shape x\n",
    "fig.update_traces(marker=dict(size=12, symbol='x'))\n",
    "## Make the graph a square\n",
    "fig.update_layout(width=800, height=800)\n",
    "## Change the plot style to grid with white background\n",
    "fig.update_layout(template='plotly_white')\n",
    "fig.show()\n"
   ]
  },
  {
   "cell_type": "code",
   "execution_count": 50,
   "metadata": {},
   "outputs": [
    {
     "data": {
      "text/html": [
       "<div>\n",
       "<style scoped>\n",
       "    .dataframe tbody tr th:only-of-type {\n",
       "        vertical-align: middle;\n",
       "    }\n",
       "\n",
       "    .dataframe tbody tr th {\n",
       "        vertical-align: top;\n",
       "    }\n",
       "\n",
       "    .dataframe thead th {\n",
       "        text-align: right;\n",
       "    }\n",
       "</style>\n",
       "<table border=\"1\" class=\"dataframe\">\n",
       "  <thead>\n",
       "    <tr style=\"text-align: right;\">\n",
       "      <th></th>\n",
       "      <th>id</th>\n",
       "      <th>name</th>\n",
       "      <th>framework_contract</th>\n",
       "      <th>description</th>\n",
       "      <th>x</th>\n",
       "      <th>y</th>\n",
       "    </tr>\n",
       "  </thead>\n",
       "  <tbody>\n",
       "    <tr>\n",
       "      <th>0</th>\n",
       "      <td>4800</td>\n",
       "      <td>Brown-Martinez</td>\n",
       "      <td>False</td>\n",
       "      <td>Provides Office sofas and more for office needs.</td>\n",
       "      <td>57.997444</td>\n",
       "      <td>-89.708122</td>\n",
       "    </tr>\n",
       "    <tr>\n",
       "      <th>1</th>\n",
       "      <td>4801</td>\n",
       "      <td>Wall LLC</td>\n",
       "      <td>True</td>\n",
       "      <td>Provides Security cameras and more for office ...</td>\n",
       "      <td>27.158918</td>\n",
       "      <td>-76.411133</td>\n",
       "    </tr>\n",
       "    <tr>\n",
       "      <th>2</th>\n",
       "      <td>4802</td>\n",
       "      <td>Cook, Frederick and Stephens</td>\n",
       "      <td>True</td>\n",
       "      <td>Provides Artwork, Decorative lighting, Aquariu...</td>\n",
       "      <td>95.572365</td>\n",
       "      <td>-37.547054</td>\n",
       "    </tr>\n",
       "    <tr>\n",
       "      <th>3</th>\n",
       "      <td>4803</td>\n",
       "      <td>Williamson and Sons</td>\n",
       "      <td>False</td>\n",
       "      <td>Provides Indoor plants, Artwork and more for o...</td>\n",
       "      <td>110.429329</td>\n",
       "      <td>-56.159191</td>\n",
       "    </tr>\n",
       "    <tr>\n",
       "      <th>4</th>\n",
       "      <td>4804</td>\n",
       "      <td>Palmer Group</td>\n",
       "      <td>True</td>\n",
       "      <td>Provides Office sofas and more for office needs.</td>\n",
       "      <td>68.402184</td>\n",
       "      <td>-72.090309</td>\n",
       "    </tr>\n",
       "    <tr>\n",
       "      <th>5</th>\n",
       "      <td>4805</td>\n",
       "      <td>Flowers, Williams and Davis</td>\n",
       "      <td>True</td>\n",
       "      <td>Provides Aquariums, Decorative lighting and mo...</td>\n",
       "      <td>98.737900</td>\n",
       "      <td>-20.100157</td>\n",
       "    </tr>\n",
       "    <tr>\n",
       "      <th>6</th>\n",
       "      <td>4806</td>\n",
       "      <td>Powell, Proctor and Pierce</td>\n",
       "      <td>False</td>\n",
       "      <td>Provides Coffee machines and more for office n...</td>\n",
       "      <td>39.285767</td>\n",
       "      <td>-46.603168</td>\n",
       "    </tr>\n",
       "    <tr>\n",
       "      <th>7</th>\n",
       "      <td>4807</td>\n",
       "      <td>Dennis, Rush and Combs</td>\n",
       "      <td>False</td>\n",
       "      <td>Provides Designer notebooks and more for offic...</td>\n",
       "      <td>-29.880466</td>\n",
       "      <td>-28.243610</td>\n",
       "    </tr>\n",
       "    <tr>\n",
       "      <th>8</th>\n",
       "      <td>4808</td>\n",
       "      <td>Williams, Phelps and Mcmahon</td>\n",
       "      <td>False</td>\n",
       "      <td>Provides Designer notebooks and more for offic...</td>\n",
       "      <td>-10.937507</td>\n",
       "      <td>-26.109011</td>\n",
       "    </tr>\n",
       "    <tr>\n",
       "      <th>9</th>\n",
       "      <td>4809</td>\n",
       "      <td>Wright, Mcmahon and Hooper</td>\n",
       "      <td>True</td>\n",
       "      <td>Provides Designer notebooks, Custom planners a...</td>\n",
       "      <td>-22.628279</td>\n",
       "      <td>-6.537658</td>\n",
       "    </tr>\n",
       "    <tr>\n",
       "      <th>10</th>\n",
       "      <td>4810</td>\n",
       "      <td>Duncan, Dean and Brady</td>\n",
       "      <td>True</td>\n",
       "      <td>Provides Smart whiteboards, High-performance l...</td>\n",
       "      <td>-12.591606</td>\n",
       "      <td>-80.698257</td>\n",
       "    </tr>\n",
       "    <tr>\n",
       "      <th>11</th>\n",
       "      <td>4811</td>\n",
       "      <td>Howell PLC</td>\n",
       "      <td>False</td>\n",
       "      <td>Provides Ergonomic chairs and more for office ...</td>\n",
       "      <td>60.851757</td>\n",
       "      <td>-134.730743</td>\n",
       "    </tr>\n",
       "    <tr>\n",
       "      <th>12</th>\n",
       "      <td>4812</td>\n",
       "      <td>Martin-Brewer</td>\n",
       "      <td>False</td>\n",
       "      <td>Provides Office sofas, Standing desks, Confere...</td>\n",
       "      <td>71.988609</td>\n",
       "      <td>-109.716782</td>\n",
       "    </tr>\n",
       "    <tr>\n",
       "      <th>13</th>\n",
       "      <td>4813</td>\n",
       "      <td>Castro Group</td>\n",
       "      <td>True</td>\n",
       "      <td>Provides Multi-function printers, Smart whiteb...</td>\n",
       "      <td>-30.735151</td>\n",
       "      <td>-75.795067</td>\n",
       "    </tr>\n",
       "    <tr>\n",
       "      <th>14</th>\n",
       "      <td>4814</td>\n",
       "      <td>Scott PLC</td>\n",
       "      <td>True</td>\n",
       "      <td>Provides Water coolers, Microwave ovens and mo...</td>\n",
       "      <td>45.125740</td>\n",
       "      <td>-22.354160</td>\n",
       "    </tr>\n",
       "    <tr>\n",
       "      <th>15</th>\n",
       "      <td>4815</td>\n",
       "      <td>Skinner-Ochoa</td>\n",
       "      <td>True</td>\n",
       "      <td>Provides Office sofas and more for office needs.</td>\n",
       "      <td>82.124107</td>\n",
       "      <td>-88.553711</td>\n",
       "    </tr>\n",
       "    <tr>\n",
       "      <th>16</th>\n",
       "      <td>4816</td>\n",
       "      <td>Hansen Ltd</td>\n",
       "      <td>False</td>\n",
       "      <td>Standing desks, Office sofas and more for offi...</td>\n",
       "      <td>44.160877</td>\n",
       "      <td>-112.201401</td>\n",
       "    </tr>\n",
       "    <tr>\n",
       "      <th>17</th>\n",
       "      <td>4817</td>\n",
       "      <td>Scott and Sons</td>\n",
       "      <td>False</td>\n",
       "      <td>Coffee machines and more for office needs.</td>\n",
       "      <td>21.969431</td>\n",
       "      <td>-42.691830</td>\n",
       "    </tr>\n",
       "    <tr>\n",
       "      <th>18</th>\n",
       "      <td>4818</td>\n",
       "      <td>Quinn Inc</td>\n",
       "      <td>True</td>\n",
       "      <td>Eco-friendly pens, Custom planners, Desk organ...</td>\n",
       "      <td>-5.109467</td>\n",
       "      <td>13.767144</td>\n",
       "    </tr>\n",
       "    <tr>\n",
       "      <th>19</th>\n",
       "      <td>4819</td>\n",
       "      <td>Miller-King</td>\n",
       "      <td>False</td>\n",
       "      <td>Smart whiteboards and more for office needs.</td>\n",
       "      <td>-9.408988</td>\n",
       "      <td>-101.226501</td>\n",
       "    </tr>\n",
       "    <tr>\n",
       "      <th>20</th>\n",
       "      <td>4820</td>\n",
       "      <td>Jennings, Li and Parker</td>\n",
       "      <td>False</td>\n",
       "      <td>Specializes in Smartphones, Laptops.</td>\n",
       "      <td>-103.921143</td>\n",
       "      <td>-52.261063</td>\n",
       "    </tr>\n",
       "    <tr>\n",
       "      <th>21</th>\n",
       "      <td>4821</td>\n",
       "      <td>Pham-Goodwin</td>\n",
       "      <td>True</td>\n",
       "      <td>Specializes in Office Cleaning, Window Cleanin...</td>\n",
       "      <td>-122.717957</td>\n",
       "      <td>-140.315216</td>\n",
       "    </tr>\n",
       "    <tr>\n",
       "      <th>22</th>\n",
       "      <td>4822</td>\n",
       "      <td>Li-Gardner</td>\n",
       "      <td>False</td>\n",
       "      <td>Specializes in Window Cleaning, Waste Manageme...</td>\n",
       "      <td>-129.796753</td>\n",
       "      <td>-160.129410</td>\n",
       "    </tr>\n",
       "    <tr>\n",
       "      <th>23</th>\n",
       "      <td>4823</td>\n",
       "      <td>Garza-Valdez</td>\n",
       "      <td>True</td>\n",
       "      <td>Specializes in Beverages, Office Snacks, Event...</td>\n",
       "      <td>-64.433334</td>\n",
       "      <td>-167.665039</td>\n",
       "    </tr>\n",
       "    <tr>\n",
       "      <th>24</th>\n",
       "      <td>4824</td>\n",
       "      <td>Hall LLC</td>\n",
       "      <td>False</td>\n",
       "      <td>Specializes in Office Snacks, Beverages, Event...</td>\n",
       "      <td>-45.967293</td>\n",
       "      <td>-158.205887</td>\n",
       "    </tr>\n",
       "    <tr>\n",
       "      <th>25</th>\n",
       "      <td>4825</td>\n",
       "      <td>Berger, Payne and Griffith</td>\n",
       "      <td>False</td>\n",
       "      <td>Specializes in IT Support, Software Developmen...</td>\n",
       "      <td>-156.777832</td>\n",
       "      <td>-85.212112</td>\n",
       "    </tr>\n",
       "    <tr>\n",
       "      <th>26</th>\n",
       "      <td>4826</td>\n",
       "      <td>Wright, May and White</td>\n",
       "      <td>True</td>\n",
       "      <td>Specializes in IT Support, Software Developmen...</td>\n",
       "      <td>-160.263748</td>\n",
       "      <td>-68.743080</td>\n",
       "    </tr>\n",
       "    <tr>\n",
       "      <th>27</th>\n",
       "      <td>4827</td>\n",
       "      <td>Blevins, Clark and Ritter</td>\n",
       "      <td>False</td>\n",
       "      <td>Specializes in Smartphones, Laptops.</td>\n",
       "      <td>-115.527000</td>\n",
       "      <td>-65.299454</td>\n",
       "    </tr>\n",
       "    <tr>\n",
       "      <th>28</th>\n",
       "      <td>4828</td>\n",
       "      <td>Miller and Sons</td>\n",
       "      <td>False</td>\n",
       "      <td>Specializes in Window Cleaning, Waste Manageme...</td>\n",
       "      <td>-143.232834</td>\n",
       "      <td>-144.852341</td>\n",
       "    </tr>\n",
       "    <tr>\n",
       "      <th>29</th>\n",
       "      <td>4829</td>\n",
       "      <td>Taylor-Cole</td>\n",
       "      <td>True</td>\n",
       "      <td>Specializes in Notebooks, Chairs, Printers.</td>\n",
       "      <td>-74.658752</td>\n",
       "      <td>-58.107201</td>\n",
       "    </tr>\n",
       "    <tr>\n",
       "      <th>30</th>\n",
       "      <td>4830</td>\n",
       "      <td>Huber, Cunningham and Levy</td>\n",
       "      <td>True</td>\n",
       "      <td>Specializes in Beverages, Event Catering, Offi...</td>\n",
       "      <td>-64.137512</td>\n",
       "      <td>-147.375183</td>\n",
       "    </tr>\n",
       "    <tr>\n",
       "      <th>31</th>\n",
       "      <td>4831</td>\n",
       "      <td>Davis LLC</td>\n",
       "      <td>False</td>\n",
       "      <td>Specializes in Cameras, Laptops.</td>\n",
       "      <td>-95.533501</td>\n",
       "      <td>-77.307167</td>\n",
       "    </tr>\n",
       "    <tr>\n",
       "      <th>32</th>\n",
       "      <td>4900</td>\n",
       "      <td>Howard, Daniel and Hamilton</td>\n",
       "      <td>True</td>\n",
       "      <td>Offers Glassware sets for promotional and give...</td>\n",
       "      <td>49.463280</td>\n",
       "      <td>82.096451</td>\n",
       "    </tr>\n",
       "    <tr>\n",
       "      <th>33</th>\n",
       "      <td>4901</td>\n",
       "      <td>Tyler, Diaz and Turner</td>\n",
       "      <td>False</td>\n",
       "      <td>Offers Fitness trackers, Bluetooth speakers fo...</td>\n",
       "      <td>13.401804</td>\n",
       "      <td>186.460739</td>\n",
       "    </tr>\n",
       "    <tr>\n",
       "      <th>34</th>\n",
       "      <td>4902</td>\n",
       "      <td>Wyatt PLC</td>\n",
       "      <td>True</td>\n",
       "      <td>Offers Fidget spinners, Mini drones, Custom pl...</td>\n",
       "      <td>-88.705940</td>\n",
       "      <td>108.235764</td>\n",
       "    </tr>\n",
       "    <tr>\n",
       "      <th>35</th>\n",
       "      <td>4903</td>\n",
       "      <td>Rose, Oneal and Ross</td>\n",
       "      <td>True</td>\n",
       "      <td>Offers Silicone wristbands, Custom T-shirts fo...</td>\n",
       "      <td>-6.435135</td>\n",
       "      <td>143.514587</td>\n",
       "    </tr>\n",
       "    <tr>\n",
       "      <th>36</th>\n",
       "      <td>4904</td>\n",
       "      <td>Daniels, Barnett and Obrien</td>\n",
       "      <td>False</td>\n",
       "      <td>Offers Glassware sets, Travel tumblers, Insula...</td>\n",
       "      <td>47.661896</td>\n",
       "      <td>110.809654</td>\n",
       "    </tr>\n",
       "    <tr>\n",
       "      <th>37</th>\n",
       "      <td>4905</td>\n",
       "      <td>Cole-Miller</td>\n",
       "      <td>True</td>\n",
       "      <td>Offers Branded notebooks, Stylus pens, Desk ca...</td>\n",
       "      <td>-25.641525</td>\n",
       "      <td>46.617496</td>\n",
       "    </tr>\n",
       "    <tr>\n",
       "      <th>38</th>\n",
       "      <td>4906</td>\n",
       "      <td>Carroll-Nichols</td>\n",
       "      <td>True</td>\n",
       "      <td>Offers Bamboo toothbrushes, Biodegradable pens...</td>\n",
       "      <td>-53.022179</td>\n",
       "      <td>161.487305</td>\n",
       "    </tr>\n",
       "    <tr>\n",
       "      <th>39</th>\n",
       "      <td>4907</td>\n",
       "      <td>Arnold, James and Terry</td>\n",
       "      <td>False</td>\n",
       "      <td>Offers Insulated water bottles for promotional...</td>\n",
       "      <td>66.215599</td>\n",
       "      <td>131.758118</td>\n",
       "    </tr>\n",
       "    <tr>\n",
       "      <th>40</th>\n",
       "      <td>4908</td>\n",
       "      <td>Barnes-Chavez</td>\n",
       "      <td>False</td>\n",
       "      <td>Offers Custom T-shirts, Silicone wristbands, S...</td>\n",
       "      <td>-11.321640</td>\n",
       "      <td>126.448029</td>\n",
       "    </tr>\n",
       "    <tr>\n",
       "      <th>41</th>\n",
       "      <td>4909</td>\n",
       "      <td>Bennett, Hansen and Miller</td>\n",
       "      <td>False</td>\n",
       "      <td>Offers Glassware sets, Insulated water bottles...</td>\n",
       "      <td>66.280106</td>\n",
       "      <td>102.044144</td>\n",
       "    </tr>\n",
       "    <tr>\n",
       "      <th>42</th>\n",
       "      <td>4910</td>\n",
       "      <td>Price Group</td>\n",
       "      <td>False</td>\n",
       "      <td>Offers Fitness trackers, Bluetooth speakers fo...</td>\n",
       "      <td>22.405363</td>\n",
       "      <td>201.697678</td>\n",
       "    </tr>\n",
       "    <tr>\n",
       "      <th>43</th>\n",
       "      <td>4911</td>\n",
       "      <td>Kane-Goodwin</td>\n",
       "      <td>True</td>\n",
       "      <td>Offers Embroidered hats for promotional and gi...</td>\n",
       "      <td>-15.217683</td>\n",
       "      <td>98.304405</td>\n",
       "    </tr>\n",
       "    <tr>\n",
       "      <th>44</th>\n",
       "      <td>4912</td>\n",
       "      <td>Young and Sons</td>\n",
       "      <td>True</td>\n",
       "      <td>Offers Custom mugs, Insulated water bottles fo...</td>\n",
       "      <td>23.464792</td>\n",
       "      <td>114.760147</td>\n",
       "    </tr>\n",
       "    <tr>\n",
       "      <th>45</th>\n",
       "      <td>4913</td>\n",
       "      <td>Parker LLC</td>\n",
       "      <td>True</td>\n",
       "      <td>Offers Fitness trackers, Wireless chargers, US...</td>\n",
       "      <td>-1.632088</td>\n",
       "      <td>204.955170</td>\n",
       "    </tr>\n",
       "    <tr>\n",
       "      <th>46</th>\n",
       "      <td>4914</td>\n",
       "      <td>Mitchell, Johnson and Mcclure</td>\n",
       "      <td>False</td>\n",
       "      <td>Offers Desk calendars for promotional and give...</td>\n",
       "      <td>-40.620205</td>\n",
       "      <td>55.884766</td>\n",
       "    </tr>\n",
       "    <tr>\n",
       "      <th>47</th>\n",
       "      <td>4915</td>\n",
       "      <td>Sanders PLC</td>\n",
       "      <td>False</td>\n",
       "      <td>Offers Custom mugs, Glassware sets for promoti...</td>\n",
       "      <td>24.681620</td>\n",
       "      <td>88.595650</td>\n",
       "    </tr>\n",
       "    <tr>\n",
       "      <th>48</th>\n",
       "      <td>4916</td>\n",
       "      <td>Summers-Fletcher</td>\n",
       "      <td>True</td>\n",
       "      <td>Offers Bamboo toothbrushes for promotional and...</td>\n",
       "      <td>-47.414383</td>\n",
       "      <td>178.824722</td>\n",
       "    </tr>\n",
       "    <tr>\n",
       "      <th>49</th>\n",
       "      <td>4917</td>\n",
       "      <td>Gentry PLC</td>\n",
       "      <td>True</td>\n",
       "      <td>Offers Reusable straws, Biodegradable pens for...</td>\n",
       "      <td>-48.731369</td>\n",
       "      <td>138.059204</td>\n",
       "    </tr>\n",
       "    <tr>\n",
       "      <th>50</th>\n",
       "      <td>4918</td>\n",
       "      <td>Gordon-Branch</td>\n",
       "      <td>True</td>\n",
       "      <td>Offers Custom playing cards, Mini drones, Fidg...</td>\n",
       "      <td>-75.520233</td>\n",
       "      <td>98.222733</td>\n",
       "    </tr>\n",
       "    <tr>\n",
       "      <th>51</th>\n",
       "      <td>4919</td>\n",
       "      <td>Johnson Group</td>\n",
       "      <td>True</td>\n",
       "      <td>Offers Travel tumblers, Insulated water bottle...</td>\n",
       "      <td>41.811569</td>\n",
       "      <td>133.936523</td>\n",
       "    </tr>\n",
       "  </tbody>\n",
       "</table>\n",
       "</div>"
      ],
      "text/plain": [
       "      id                           name  framework_contract  \\\n",
       "0   4800                 Brown-Martinez               False   \n",
       "1   4801                       Wall LLC                True   \n",
       "2   4802   Cook, Frederick and Stephens                True   \n",
       "3   4803            Williamson and Sons               False   \n",
       "4   4804                   Palmer Group                True   \n",
       "5   4805    Flowers, Williams and Davis                True   \n",
       "6   4806     Powell, Proctor and Pierce               False   \n",
       "7   4807         Dennis, Rush and Combs               False   \n",
       "8   4808   Williams, Phelps and Mcmahon               False   \n",
       "9   4809     Wright, Mcmahon and Hooper                True   \n",
       "10  4810         Duncan, Dean and Brady                True   \n",
       "11  4811                     Howell PLC               False   \n",
       "12  4812                  Martin-Brewer               False   \n",
       "13  4813                   Castro Group                True   \n",
       "14  4814                      Scott PLC                True   \n",
       "15  4815                  Skinner-Ochoa                True   \n",
       "16  4816                     Hansen Ltd               False   \n",
       "17  4817                 Scott and Sons               False   \n",
       "18  4818                      Quinn Inc                True   \n",
       "19  4819                    Miller-King               False   \n",
       "20  4820        Jennings, Li and Parker               False   \n",
       "21  4821                   Pham-Goodwin                True   \n",
       "22  4822                     Li-Gardner               False   \n",
       "23  4823                   Garza-Valdez                True   \n",
       "24  4824                       Hall LLC               False   \n",
       "25  4825     Berger, Payne and Griffith               False   \n",
       "26  4826          Wright, May and White                True   \n",
       "27  4827      Blevins, Clark and Ritter               False   \n",
       "28  4828                Miller and Sons               False   \n",
       "29  4829                    Taylor-Cole                True   \n",
       "30  4830     Huber, Cunningham and Levy                True   \n",
       "31  4831                      Davis LLC               False   \n",
       "32  4900    Howard, Daniel and Hamilton                True   \n",
       "33  4901         Tyler, Diaz and Turner               False   \n",
       "34  4902                      Wyatt PLC                True   \n",
       "35  4903           Rose, Oneal and Ross                True   \n",
       "36  4904    Daniels, Barnett and Obrien               False   \n",
       "37  4905                    Cole-Miller                True   \n",
       "38  4906                Carroll-Nichols                True   \n",
       "39  4907        Arnold, James and Terry               False   \n",
       "40  4908                  Barnes-Chavez               False   \n",
       "41  4909     Bennett, Hansen and Miller               False   \n",
       "42  4910                    Price Group               False   \n",
       "43  4911                   Kane-Goodwin                True   \n",
       "44  4912                 Young and Sons                True   \n",
       "45  4913                     Parker LLC                True   \n",
       "46  4914  Mitchell, Johnson and Mcclure               False   \n",
       "47  4915                    Sanders PLC               False   \n",
       "48  4916               Summers-Fletcher                True   \n",
       "49  4917                     Gentry PLC                True   \n",
       "50  4918                  Gordon-Branch                True   \n",
       "51  4919                  Johnson Group                True   \n",
       "\n",
       "                                          description           x           y  \n",
       "0    Provides Office sofas and more for office needs.   57.997444  -89.708122  \n",
       "1   Provides Security cameras and more for office ...   27.158918  -76.411133  \n",
       "2   Provides Artwork, Decorative lighting, Aquariu...   95.572365  -37.547054  \n",
       "3   Provides Indoor plants, Artwork and more for o...  110.429329  -56.159191  \n",
       "4    Provides Office sofas and more for office needs.   68.402184  -72.090309  \n",
       "5   Provides Aquariums, Decorative lighting and mo...   98.737900  -20.100157  \n",
       "6   Provides Coffee machines and more for office n...   39.285767  -46.603168  \n",
       "7   Provides Designer notebooks and more for offic...  -29.880466  -28.243610  \n",
       "8   Provides Designer notebooks and more for offic...  -10.937507  -26.109011  \n",
       "9   Provides Designer notebooks, Custom planners a...  -22.628279   -6.537658  \n",
       "10  Provides Smart whiteboards, High-performance l...  -12.591606  -80.698257  \n",
       "11  Provides Ergonomic chairs and more for office ...   60.851757 -134.730743  \n",
       "12  Provides Office sofas, Standing desks, Confere...   71.988609 -109.716782  \n",
       "13  Provides Multi-function printers, Smart whiteb...  -30.735151  -75.795067  \n",
       "14  Provides Water coolers, Microwave ovens and mo...   45.125740  -22.354160  \n",
       "15   Provides Office sofas and more for office needs.   82.124107  -88.553711  \n",
       "16  Standing desks, Office sofas and more for offi...   44.160877 -112.201401  \n",
       "17         Coffee machines and more for office needs.   21.969431  -42.691830  \n",
       "18  Eco-friendly pens, Custom planners, Desk organ...   -5.109467   13.767144  \n",
       "19       Smart whiteboards and more for office needs.   -9.408988 -101.226501  \n",
       "20               Specializes in Smartphones, Laptops. -103.921143  -52.261063  \n",
       "21  Specializes in Office Cleaning, Window Cleanin... -122.717957 -140.315216  \n",
       "22  Specializes in Window Cleaning, Waste Manageme... -129.796753 -160.129410  \n",
       "23  Specializes in Beverages, Office Snacks, Event...  -64.433334 -167.665039  \n",
       "24  Specializes in Office Snacks, Beverages, Event...  -45.967293 -158.205887  \n",
       "25  Specializes in IT Support, Software Developmen... -156.777832  -85.212112  \n",
       "26  Specializes in IT Support, Software Developmen... -160.263748  -68.743080  \n",
       "27               Specializes in Smartphones, Laptops. -115.527000  -65.299454  \n",
       "28  Specializes in Window Cleaning, Waste Manageme... -143.232834 -144.852341  \n",
       "29        Specializes in Notebooks, Chairs, Printers.  -74.658752  -58.107201  \n",
       "30  Specializes in Beverages, Event Catering, Offi...  -64.137512 -147.375183  \n",
       "31                   Specializes in Cameras, Laptops.  -95.533501  -77.307167  \n",
       "32  Offers Glassware sets for promotional and give...   49.463280   82.096451  \n",
       "33  Offers Fitness trackers, Bluetooth speakers fo...   13.401804  186.460739  \n",
       "34  Offers Fidget spinners, Mini drones, Custom pl...  -88.705940  108.235764  \n",
       "35  Offers Silicone wristbands, Custom T-shirts fo...   -6.435135  143.514587  \n",
       "36  Offers Glassware sets, Travel tumblers, Insula...   47.661896  110.809654  \n",
       "37  Offers Branded notebooks, Stylus pens, Desk ca...  -25.641525   46.617496  \n",
       "38  Offers Bamboo toothbrushes, Biodegradable pens...  -53.022179  161.487305  \n",
       "39  Offers Insulated water bottles for promotional...   66.215599  131.758118  \n",
       "40  Offers Custom T-shirts, Silicone wristbands, S...  -11.321640  126.448029  \n",
       "41  Offers Glassware sets, Insulated water bottles...   66.280106  102.044144  \n",
       "42  Offers Fitness trackers, Bluetooth speakers fo...   22.405363  201.697678  \n",
       "43  Offers Embroidered hats for promotional and gi...  -15.217683   98.304405  \n",
       "44  Offers Custom mugs, Insulated water bottles fo...   23.464792  114.760147  \n",
       "45  Offers Fitness trackers, Wireless chargers, US...   -1.632088  204.955170  \n",
       "46  Offers Desk calendars for promotional and give...  -40.620205   55.884766  \n",
       "47  Offers Custom mugs, Glassware sets for promoti...   24.681620   88.595650  \n",
       "48  Offers Bamboo toothbrushes for promotional and...  -47.414383  178.824722  \n",
       "49  Offers Reusable straws, Biodegradable pens for...  -48.731369  138.059204  \n",
       "50  Offers Custom playing cards, Mini drones, Fidg...  -75.520233   98.222733  \n",
       "51  Offers Travel tumblers, Insulated water bottle...   41.811569  133.936523  "
      ]
     },
     "execution_count": 50,
     "metadata": {},
     "output_type": "execute_result"
    }
   ],
   "source": [
    "vendor"
   ]
  },
  {
   "cell_type": "code",
   "execution_count": null,
   "metadata": {},
   "outputs": [],
   "source": []
  }
 ],
 "metadata": {
  "kernelspec": {
   "display_name": "Python 3",
   "language": "python",
   "name": "python3"
  },
  "language_info": {
   "codemirror_mode": {
    "name": "ipython",
    "version": 3
   },
   "file_extension": ".py",
   "mimetype": "text/x-python",
   "name": "python",
   "nbconvert_exporter": "python",
   "pygments_lexer": "ipython3",
   "version": "3.11.4"
  }
 },
 "nbformat": 4,
 "nbformat_minor": 2
}
