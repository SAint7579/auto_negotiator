{
 "cells": [
  {
   "cell_type": "code",
   "execution_count": 1,
   "metadata": {},
   "outputs": [],
   "source": [
    "from langchain.llms import OpenAI\n",
    "from langchain.chat_models import ChatOpenAI\n",
    "from langchain.agents.openai_assistant import OpenAIAssistantRunnable\n",
    "from langchain.schema import HumanMessage, SystemMessage\n",
    "import os\n",
    "os.environ['OPENAI_API_KEY'] = ''"
   ]
  },
  {
   "cell_type": "code",
   "execution_count": 2,
   "metadata": {},
   "outputs": [],
   "source": [
    "def gpt_negotiation_mail(their_offer, our_offer, vendor_name):\n",
    "    # Create a GPT prompt\n",
    "    prompt = f\"Write a mail to a vendor named '{vendor_name}' on behalf of Vishwa Mohan Singh (salutations), asking them to negotiate from:\\nprevious cost: {their_offer['previous_cost']} Euros\\n and previous days required {their_offer['previous_days']} to new offer:from:\\nprevious cost: {our_offer['new_cost']} Euros\\n and previous days required {our_offer['new_days']}\"\n",
    "\n",
    "    mail_assistant = ChatOpenAI()\n",
    "    messages = [\n",
    "        SystemMessage(\n",
    "            content=\"You are an AI assistant that is supposed to write a mail to the vendor negotiating for a reduced cost and reduced time of delivery.\"\n",
    "        ),\n",
    "        HumanMessage(content=prompt),\n",
    "    ]\n",
    "    response = mail_assistant(messages)\n",
    "\n",
    "    return response.content"
   ]
  },
  {
   "cell_type": "code",
   "execution_count": 6,
   "metadata": {},
   "outputs": [
    {
     "data": {
      "text/plain": [
       "'Subject: Request for Negotiation: Reduced Cost and Time of Delivery\\n\\nDear [Vendor Name],\\n\\nI hope this email finds you well. My name is Vishwa Mohan Singh, and I am writing to discuss a potential negotiation regarding the cost and time of delivery for our recent orders with ABC Corporation.\\n\\nFirstly, I would like to express my appreciation for the quality of products and services that ABC Corporation has consistently provided us in the past. Our business relationship has been mutually beneficial, and I am confident that we can continue to strengthen it further.\\n\\nHowever, I would like to bring to your attention a concern regarding the current cost and time of delivery for our orders. The previous cost per unit was set at 5 Euros, and the delivery time was 20 days. While we understand the value of your products, we believe that there may be room for negotiation in these areas.\\n\\nIn light of this, I would like to propose a revised offer for our future orders. We kindly request that the cost per unit be reduced to 3 Euros, while also aiming to significantly reduce the time of delivery to 4 days. We believe that these changes will not only benefit our organization by reducing costs and improving efficiency but will also be advantageous for ABC Corporation by increasing the volume of our orders.\\n\\nIt is important to note that we highly value the quality and reliability of your products, and any cost reduction should not compromise the standards we have come to expect from ABC Corporation. Furthermore, we understand that reducing the time of delivery may require adjustments to your internal processes, and we are open to discussing any feasible solutions that can help achieve this goal.\\n\\nI would appreciate if you could review our proposal and provide your feedback at the earliest. If you require any additional information or would like to discuss this matter further, please do not hesitate to contact me directly at [Your Contact Details].\\n\\nThank you for your attention to this matter, and I look forward to your prompt response. I am optimistic that we can reach a mutually beneficial agreement that will further strengthen our business partnership.\\n\\nBest regards,\\n\\nVishwa Mohan Singh'"
      ]
     },
     "execution_count": 6,
     "metadata": {},
     "output_type": "execute_result"
    }
   ],
   "source": [
    "# Example usage:\n",
    "their_offer = {\n",
    "    'previous_cost':5,\n",
    "    'previous_days':20\n",
    "}\n",
    "\n",
    "our_offer = {\n",
    "    'new_cost':3,\n",
    "    'new_days':14\n",
    "}\n",
    "\n",
    "\n",
    "vendor_name = 'ABC Corporation'\n",
    "\n",
    "gpt_negotiation_mail(their_offer, our_offer, vendor_name)\n"
   ]
  },
  {
   "cell_type": "code",
   "execution_count": null,
   "metadata": {},
   "outputs": [],
   "source": [
    "function_json = {\n",
    "  \"name\": \"get_lowest_offer\",\n",
    "  \"parameters\": {\n",
    "    \"type\": \"object\",\n",
    "    \"properties\": {\n",
    "      \"final_cost\": {\n",
    "        \"type\": \"number\",\n",
    "        \"description\": \"What is the best offer/lowest cost the vendor can offer.\"\n",
    "      },\n",
    "      \"final_days\": {\n",
    "        \"type\": \"number\",\n",
    "        \"description\": \"What is the best offer/minimum number of days the vendor can deliver in.\"\n",
    "      }\n",
    "    },\n",
    "    \"required\": [\n",
    "      \"final_cost\",\n",
    "      \"final_days\"\n",
    "    ]\n",
    "  },\n",
    "  \"description\": \"Collect the cost and delivery days from the vendor after the negotiations.\"\n",
    "}"
   ]
  },
  {
   "cell_type": "code",
   "execution_count": null,
   "metadata": {},
   "outputs": [],
   "source": [
    "proc_assistant = OpenAIAssistantRunnable.create_assistant(\n",
    "    name=\"negotiation_bot\",\n",
    "    instructions=f\"You are an AI assistant who is supposed to negotiate with the vendor. The vendors best offer is {their_offer}. We want to negotiate it down to {our_offer}. You are supposed to collect the counter offer from the vendor: Can the lowest cost or time be met, if not, what is the lowest they can offer. Do not write them a new counter offer. Collect the information and invoke the function. Always write your responses in the form of a mail on behalf of Vishwa Singh.\",\n",
    "    tools=[{\"type\": \"function\", \"function\": function_json, \"name\": \"get_lowest_offer\"}],\n",
    "    model=\"gpt-4-1106-preview\",)"
   ]
  },
  {
   "cell_type": "code",
   "execution_count": null,
   "metadata": {},
   "outputs": [],
   "source": []
  }
 ],
 "metadata": {
  "kernelspec": {
   "display_name": "py39",
   "language": "python",
   "name": "python3"
  },
  "language_info": {
   "codemirror_mode": {
    "name": "ipython",
    "version": 3
   },
   "file_extension": ".py",
   "mimetype": "text/x-python",
   "name": "python",
   "nbconvert_exporter": "python",
   "pygments_lexer": "ipython3",
   "version": "3.11.4"
  }
 },
 "nbformat": 4,
 "nbformat_minor": 2
}
