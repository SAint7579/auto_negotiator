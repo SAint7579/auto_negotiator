{
 "cells": [
  {
   "cell_type": "code",
   "execution_count": null,
   "metadata": {},
   "outputs": [],
   "source": [
    "import pandas as pd\n",
    "ven = pd.read_csv(\"C:/Users/shubh/Documents/vendor_yes.csv\")\n",
    "\n",
    "def displayMinVendor(ven):\n",
    "    ven[\"Unfulfilled_len\"] = ven['Unfulfilled'].apply(lambda x: len(str(x).split(';')) if pd.notna(x) else 0)\n",
    "\n",
    "    ven['Cost' + '_normalized'] = normalize_by_sum(ven['Cost'])\n",
    "    ven['Days' + '_normalized'] = normalize_by_sum(ven['Days'])\n",
    "    ven['Unfulfilled_len' + '_normalized'] = normalize_by_sum(ven['Unfulfilled_len'])\n",
    "\n",
    "    \n",
    "    ven['Overall'] = ven.apply(lambda row: 0.4 * row['Cost_normalized'] +\n",
    "                                       0.35 * row['Days_normalized'] +\n",
    "                                       0.25 * row['Unfulfilled_len_normalized'], axis=1)\n",
    "    \n",
    "    \n",
    "    matching_row = ven[(ven['Cost'] == ven['Cost'].min()) & (ven['Days'] == ven['Days'].min())]\n",
    "\n",
    "    if not matching_row.empty:\n",
    "    # If a matching row exists, print the row\n",
    "        print(\"Matching Row:\")\n",
    "        print(matching_row)\n",
    "    else:\n",
    "    # If no matching row exists, print the minimum values\n",
    "        min_values_Cost = ven['Cost'].min()\n",
    "        min_values_Days = ven['Days'].min()\n",
    "        print(f\"Minimum Cost Offered: {min_values_Cost}, Mimimum Days Offered: {min_values_Days}\")\n",
    "    \n",
    "        min_values = ven['Overall'].nsmallest(1)\n",
    "        result_rows = ven[ven['Overall'].isin(min_values)]\n",
    "\n",
    "    return result_rows[['VendorID', 'Cost', 'Days', 'Unfulfilled']]\n",
    "    \n",
    "def normalize_by_sum(column):\n",
    "    normalized_column = column / column.sum()\n",
    "    return normalized_column"
   ]
  },
  {
   "cell_type": "code",
   "execution_count": null,
   "metadata": {},
   "outputs": [],
   "source": [
    "displayMinVendor(ven)"
   ]
  }
 ],
 "metadata": {
  "kernelspec": {
   "display_name": "py39",
   "language": "python",
   "name": "python3"
  },
  "language_info": {
   "codemirror_mode": {
    "name": "ipython",
    "version": 3
   },
   "file_extension": ".py",
   "mimetype": "text/x-python",
   "name": "python",
   "nbconvert_exporter": "python",
   "pygments_lexer": "ipython3",
   "version": "3.9.16"
  }
 },
 "nbformat": 4,
 "nbformat_minor": 2
}
