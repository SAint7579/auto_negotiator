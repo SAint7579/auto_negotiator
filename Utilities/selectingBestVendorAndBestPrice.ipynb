{
 "cells": [
  {
   "cell_type": "code",
   "execution_count": 9,
   "metadata": {},
   "outputs": [],
   "source": [
    "import pandas as pd\n",
    "import numpy as np\n",
    "ven = pd.read_csv(\"C:/VS code projects/Road to Hack/auto_negotiator/Utilities/Vendor_yes.csv\")\n",
    "\n",
    "def displayMinVendor(ven):\n",
    "    ven[\"Unfulfilled_len\"] = ven['Unfulfilled'].apply(lambda x: len(str(x).split(';')) if pd.notna(x) else 0)\n",
    "\n",
    "    ven['Cost' + '_normalized'] = normalize_by_sum(ven['Cost'])\n",
    "    ven['Days' + '_normalized'] = normalize_by_sum(ven['Days'])\n",
    "    ven['Unfulfilled_len' + '_normalized'] = normalize_by_sum(ven['Unfulfilled_len'])\n",
    "\n",
    "    \n",
    "    ven['Overall'] = ven.apply(lambda row: 0.4 * row['Cost_normalized'] +\n",
    "                                       0.35 * row['Days_normalized'] +\n",
    "                                       0.25 * row['Unfulfilled_len_normalized'], axis=1)\n",
    "    \n",
    "    \n",
    "    matching_row = ven[(ven['Cost'] == ven['Cost'].min()) & (ven['Days'] == ven['Days'].min())]\n",
    "\n",
    "    if not matching_row.empty:\n",
    "    # If a matching row exists, print the row\n",
    "        print(\"Matching Row:\")\n",
    "        print(matching_row)\n",
    "\n",
    "        return matching_row[['VendorID', 'Cost', 'Days', 'Unfulfilled']], (matching_row['Cost'].min(), matching_row['Days'].min())\n",
    "    else:\n",
    "    # If no matching row exists, print the minimum values\n",
    "        min_values_Cost = ven['Cost'].min()\n",
    "        min_values_Days = ven['Days'].min()\n",
    "        print(f\"Minimum Cost Offered: {min_values_Cost}, Mimimum Days Offered: {min_values_Days}\")\n",
    "    \n",
    "        min_values = ven['Overall'].nsmallest(1)\n",
    "        result_rows = ven[ven['Overall'].isin(min_values)]\n",
    "\n",
    "        return result_rows[['VendorID', 'Cost', 'Days', 'Unfulfilled']], (min_values_Cost, min_values_Days)\n",
    "    \n",
    "def normalize_by_sum(column):\n",
    "    normalized_column = column / column.sum()\n",
    "    return normalized_column"
   ]
  },
  {
   "cell_type": "code",
   "execution_count": 39,
   "metadata": {},
   "outputs": [
    {
     "name": "stdout",
     "output_type": "stream",
     "text": [
      "Minimum Cost Offered: 3, Mimimum Days Offered: 14\n"
     ]
    },
    {
     "data": {
      "text/plain": [
       "(   VendorID  Cost  Days Unfulfilled\n",
       " 2      4819     3    20         NaN,\n",
       " (3, 14))"
      ]
     },
     "execution_count": 39,
     "metadata": {},
     "output_type": "execute_result"
    }
   ],
   "source": [
    "displayMinVendor(ven)"
   ]
  },
  {
   "cell_type": "code",
   "execution_count": 57,
   "metadata": {},
   "outputs": [],
   "source": [
    "offer = {\n",
    "\n",
    "\"requirements_satisfied\": True,\n",
    "\n",
    "\"unfullfiled_requirements\": None,\n",
    "\n",
    "\"quotation\": 3,\n",
    "\n",
    "\"procurement_days\": 18,\n",
    "\n",
    "}"
   ]
  },
  {
   "cell_type": "code",
   "execution_count": 24,
   "metadata": {},
   "outputs": [],
   "source": [
    "def get_counter_offer(offer):\n",
    "    ven = pd.read_csv(\"C:/VS code projects/Road to Hack/auto_negotiator/Utilities/Vendor_yes.csv\")\n",
    "    ## Check if the requirements are satisfied\n",
    "    if offer[\"requirements_satisfied\"]:\n",
    "        ## Convert offer to dataframe\n",
    "        dataframe = pd.DataFrame(np.array([['NEW'] + list(offer.values())])[:,[0,-2,-1,1,2]], columns=['VendorID', 'Cost', 'Days', 'CanFulfill', 'Unfulfilled'],index=[len(ven)])\n",
    "        #Replace True with T and False with F\n",
    "        dataframe['CanFulfill'] = dataframe['CanFulfill'].astype(str).str[0].str.upper()\n",
    "        \n",
    "        ## Append the offer to the vendor dataframe\n",
    "        ven = ven.append(dataframe, ignore_index=True)\n",
    "        ## Convert cost and days to numeric\n",
    "        ven['Cost'] = pd.to_numeric(ven['Cost'])\n",
    "        ven['Days'] = pd.to_numeric(ven['Days'])\n",
    "\n",
    "        ## Get minimum vendor\n",
    "        min_vendor, min_values = displayMinVendor(ven)\n",
    "\n",
    "        if min_vendor['VendorID'].iloc[0] == 'NEW':\n",
    "            ## Check if min_vendor is better than min_values\n",
    "            if min_vendor['Cost'].iloc[0] > min_values[0] or min_vendor['Days'].iloc[0] > min_values[1]:\n",
    "                ## Create a new offer in {'new_cost':3,'new_days':14} format\n",
    "                return True, {'new_cost':min(min_vendor['Cost'].iloc[0], min_values[0]),'new_days':min(min_vendor['Days'].iloc[0], min_values[1])}, {'previous_cost':min_vendor['Cost'].iloc[0],'previous_days':min_vendor['Days'].iloc[0]}\n",
    "            else:\n",
    "                return False, {}\n",
    "        else:\n",
    "            False, {}\n",
    "        "
   ]
  },
  {
   "cell_type": "code",
   "execution_count": 28,
   "metadata": {},
   "outputs": [],
   "source": [
    "import json\n",
    "import pandas as pd\n",
    "import numpy as np\n",
    "offer = json.loads(json.load(open('C:/VS code projects/Road to Hack/auto_negotiator/Utilities/procurement.json','r')))\n",
    "#Checkng conditions\n",
    "if offer['requirements_satisfied'] == 'true':\n",
    "    offer['requirements_satisfied'] = True\n",
    "if offer['requirements_satisfied'] == 'false':\n",
    "    offer['requirements_satisfied'] = False\n",
    "if offer['unfullfiled_requirements'] == 'NA':\n",
    "    offer['unfullfiled_requirements'] = None\n",
    "if offer['quotation'] == 'NA':\n",
    "    offer['quotation'] = None\n",
    "if offer['procurement_days'] == 'NA':\n",
    "    offer['procurement_days'] = None"
   ]
  },
  {
   "cell_type": "code",
   "execution_count": 29,
   "metadata": {},
   "outputs": [
    {
     "data": {
      "text/plain": [
       "{'requirements_satisfied': True,\n",
       " 'unfullfiled_requirements': None,\n",
       " 'quotation': '3',\n",
       " 'procurement_days': '18'}"
      ]
     },
     "execution_count": 29,
     "metadata": {},
     "output_type": "execute_result"
    }
   ],
   "source": [
    "offer"
   ]
  },
  {
   "cell_type": "code",
   "execution_count": 30,
   "metadata": {},
   "outputs": [
    {
     "name": "stdout",
     "output_type": "stream",
     "text": [
      "Minimum Cost Offered: 3, Mimimum Days Offered: 14\n"
     ]
    },
    {
     "name": "stderr",
     "output_type": "stream",
     "text": [
      "C:\\Users\\aniru\\AppData\\Local\\Temp\\ipykernel_10616\\241073260.py:11: FutureWarning: The frame.append method is deprecated and will be removed from pandas in a future version. Use pandas.concat instead.\n",
      "  ven = ven.append(dataframe, ignore_index=True)\n"
     ]
    },
    {
     "data": {
      "text/plain": [
       "(True,\n",
       " {'new_cost': 3, 'new_days': 14},\n",
       " {'previous_cost': 3, 'previous_days': 18})"
      ]
     },
     "execution_count": 30,
     "metadata": {},
     "output_type": "execute_result"
    }
   ],
   "source": [
    "get_counter_offer(offer)"
   ]
  },
  {
   "cell_type": "code",
   "execution_count": null,
   "metadata": {},
   "outputs": [],
   "source": []
  }
 ],
 "metadata": {
  "kernelspec": {
   "display_name": "py39",
   "language": "python",
   "name": "python3"
  },
  "language_info": {
   "codemirror_mode": {
    "name": "ipython",
    "version": 3
   },
   "file_extension": ".py",
   "mimetype": "text/x-python",
   "name": "python",
   "nbconvert_exporter": "python",
   "pygments_lexer": "ipython3",
   "version": "3.9.16"
  }
 },
 "nbformat": 4,
 "nbformat_minor": 2
}
