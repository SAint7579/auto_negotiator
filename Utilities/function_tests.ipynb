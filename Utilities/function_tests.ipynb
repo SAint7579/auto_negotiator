{
 "cells": [
  {
   "cell_type": "code",
   "execution_count": 4,
   "metadata": {},
   "outputs": [],
   "source": [
    "specification = { \"specifications\": \"ballpoint pen, black, metal\", \"quantity\": 30, \"price\": 5, \"num_days\": 7, \"need_logo\": 'false' }"
   ]
  },
  {
   "cell_type": "code",
   "execution_count": 5,
   "metadata": {},
   "outputs": [],
   "source": [
    "def gpt_draft_mail(specification):\n",
    "    # Create a GPT prompt\n",
    "    pormpt = f\"Write a mail to a vendor asking for a quotation for the following specifications:\\nSpecifications: {specification['specifications']}\\nQuantity: {specification['quantity']}\\nPrice: {specification['price']}\\nNumber of days: {specification['num_days']}\\nNeed logo: {specification['need_logo']}\\n\\nMail:\"\n",
    "\n",
    "    return pormpt"
   ]
  },
  {
   "cell_type": "code",
   "execution_count": null,
   "metadata": {},
   "outputs": [],
   "source": [
    "function_json = {\n",
    "  \"name\": \"get_specifications\",\n",
    "  \"parameters\": {\n",
    "    \"type\": \"object\",\n",
    "    \"properties\": {\n",
    "    \"requirements_satisfied\": {\n",
    "        \"type\": \"boolean\",\n",
    "        \"description\": \"Can all the requirements be satisfied by the vendor?\"\n",
    "      },\n",
    "    \"unfullfiled_requirements\": {\n",
    "            \"type\": \"string\",\n",
    "            \"description\": \"What requirements cannot be satisfied by the vendor?\"\n",
    "        },\n",
    "      \"quotation\": {\n",
    "        \"type\": \"number\",\n",
    "        \"description\": \"Price per unit of the product. Set to 0 if the requirements cannot be satisfied at all.\"\n",
    "      },\n",
    "      \"procurement_days\": {\n",
    "        \"type\": \"number\",\n",
    "        \"description\": \"Number of days to fullfil the requirements. Set to 0 if the requirements cannot be satisfied at all.\"\n",
    "      }\n",
    "    },\n",
    "    \"required\": [\n",
    "      \"requirements_satisfied\",\n",
    "      \"unfullfiled_requirements\",\n",
    "      \"quotation\",\n",
    "      \"procurement_days\"\n",
    "    ]\n",
    "  },\n",
    "  \"description\": \"Check if the vendor can fullfil the requirements and get the vendor quotation and procurement days from the mail.\",\n",
    "}"
   ]
  },
  {
   "cell_type": "code",
   "execution_count": null,
   "metadata": {},
   "outputs": [],
   "source": [
    "interpreter_assistant = OpenAIAssistantRunnable.create_assistant(\n",
    "    name=\"Procurement Bot\",\n",
    "    instructions=\"You are an AI assistant that is supposed to write a mail to the vendor asking for a quotation. You are supposed to collect the 3 main information: Can the requirements be met, what is the price and how long will it take to deliver (in days). \",\n",
    "    tools=[{\"type\": \"function\", \"function\": function_json, \"name\": \"get_specifications\"}],\n",
    "    model=\"gpt-4-1106-preview\",\n",
    ")\n",
    "\n",
    "output = interpreter_assistant.invoke({\"content\": \"I need a hoodie for men.\"})\n",
    "output"
   ]
  },
  {
   "cell_type": "code",
   "execution_count": 6,
   "metadata": {},
   "outputs": [
    {
     "data": {
      "text/plain": [
       "'Write a mail to a vendor asking for a quotation for the following specifications:\\nSpecifications: ballpoint pen, black, metal\\nQuantity: 30\\nPrice: 5\\nNumber of days: 7\\nNeed logo: false\\n\\nMail:'"
      ]
     },
     "execution_count": 6,
     "metadata": {},
     "output_type": "execute_result"
    }
   ],
   "source": [
    "gpt_draft_mail(specification)"
   ]
  },
  {
   "cell_type": "code",
   "execution_count": null,
   "metadata": {},
   "outputs": [],
   "source": []
  }
 ],
 "metadata": {
  "kernelspec": {
   "display_name": "Python 3",
   "language": "python",
   "name": "python3"
  },
  "language_info": {
   "codemirror_mode": {
    "name": "ipython",
    "version": 3
   },
   "file_extension": ".py",
   "mimetype": "text/x-python",
   "name": "python",
   "nbconvert_exporter": "python",
   "pygments_lexer": "ipython3",
   "version": "3.11.4"
  }
 },
 "nbformat": 4,
 "nbformat_minor": 2
}
