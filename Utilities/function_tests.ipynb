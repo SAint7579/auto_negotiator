{
 "cells": [
  {
   "cell_type": "code",
   "execution_count": 59,
   "metadata": {},
   "outputs": [],
   "source": [
    "from langchain.agents.openai_assistant import OpenAIAssistantRunnable\n",
    "from langchain.chat_models import ChatOpenAI\n",
    "from langchain.schema import HumanMessage, SystemMessage\n",
    "import os\n",
    "os.environ['OPENAI_API_KEY'] = ''\n"
   ]
  },
  {
   "cell_type": "code",
   "execution_count": 60,
   "metadata": {},
   "outputs": [],
   "source": [
    "specification = { \"specifications\": \"ballpoint pen, black, metal\", \"quantity\": 30, \"price\": 5, \"num_days\": 7, \"need_logo\": 'false' }"
   ]
  },
  {
   "cell_type": "code",
   "execution_count": 67,
   "metadata": {},
   "outputs": [],
   "source": [
    "def gpt_draft_mail(specification, vendor_name):\n",
    "    # Create a GPT prompt\n",
    "    pormpt = f\"Write a mail to a vendor named '{vendor_name}' on behalf of Vishwa Mohan Singh (salutations), asking for a quotation for the following specifications:\\nSpecifications: {specification['specifications']}\\nQuantity: {specification['quantity']}\\nOur Price: {specification['price']} Euros\\nNumber of days Required: {specification['num_days']}\\nNeed logo: {specification['need_logo']}\\n\\nMail:\"\n",
    "\n",
    "    mail_assistant = ChatOpenAI()\n",
    "    messages = [\n",
    "        SystemMessage(\n",
    "            content=\"You are an AI assistant that is supposed to write a mail to the vendor asking for a quotation and time of delivery. Specify our required price and days as well.\"\n",
    "        ),\n",
    "        HumanMessage(content=pormpt),\n",
    "    ]\n",
    "    response = mail_assistant(messages)\n",
    "\n",
    "    return response.content"
   ]
  },
  {
   "cell_type": "code",
   "execution_count": 68,
   "metadata": {},
   "outputs": [
    {
     "name": "stdout",
     "output_type": "stream",
     "text": [
      "Dear ABC Corp.,\n",
      "\n",
      "I hope this email finds you well. My name is Vishwa Mohan Singh, and I am reaching out to you on behalf of our company. We are interested in purchasing ballpoint pens with the following specifications: black ink, metal body.\n",
      "\n",
      "We require a quantity of 30 pens. Could you please provide us with a quotation for this order? We have a budget of 5 Euros per pen.\n",
      "\n",
      "Additionally, we would appreciate it if you could let us know the number of days required for the delivery. Our deadline is in 7 days, so timely delivery is crucial for us.\n",
      "\n",
      "Please note that we do not require any logo on the pens.\n",
      "\n",
      "Thank you in advance for your prompt attention to this matter. We look forward to receiving your quotation and delivery details.\n",
      "\n",
      "Best regards,\n",
      "\n",
      "Vishwa Mohan Singh\n"
     ]
    }
   ],
   "source": [
    "print(gpt_draft_mail(specification, \"ABC Corp.\"))"
   ]
  },
  {
   "cell_type": "code",
   "execution_count": 53,
   "metadata": {},
   "outputs": [],
   "source": [
    "function_json = {\n",
    "  \"name\": \"get_vendor_quotation\",\n",
    "  \"parameters\": {\n",
    "    \"type\": \"object\",\n",
    "    \"properties\": {\n",
    "      \"requirements_satisfied\": {\n",
    "        \"type\": \"boolean\",\n",
    "        \"description\": \"Can the requirements be satisfied by the vendor? Make it true even if some requirements can be satisfied.\"\n",
    "      },\n",
    "      \"unfullfiled_requirements\": {\n",
    "        \"type\": \"string\",\n",
    "        \"description\": \"What requirements cannot be satisfied by the vendor? Separate requirements with ';'. NA if there are no missing requirements.\"\n",
    "      },\n",
    "      \"quotation\": {\n",
    "        \"type\": \"number\",\n",
    "        \"description\": \"Price per unit of the product. Only set to NA if the requirements cannot be satisfied at all. Otherwise ask the user for the exact price.\"\n",
    "      },\n",
    "      \"procurement_days\": {\n",
    "        \"type\": \"number\",\n",
    "        \"description\": \"Number of days to fullfil the requirements. Only set to NA if the requirements cannot be satisfied at all. Otherwise ask the user for the days\"\n",
    "      }\n",
    "    },\n",
    "    \"required\": [\n",
    "      \"requirements_satisfied\",\n",
    "      \"unfullfiled_requirements\",\n",
    "      \"quotation\",\n",
    "      \"procurement_days\"\n",
    "    ]\n",
    "  },\n",
    "  \"description\": \"Check if the vendor can fullfil the requirements and get the vendor quotation and procurement days from the mail.\"\n",
    "}"
   ]
  },
  {
   "cell_type": "code",
   "execution_count": 54,
   "metadata": {},
   "outputs": [],
   "source": [
    "proc_assistant = OpenAIAssistantRunnable.create_assistant(\n",
    "    name=\"Procurement_Bot_Vishwa\",\n",
    "    instructions=f\"You are an AI assistant who is supposed to get the quotation and time of delivery from the vendor. These are the requirements:{specification}. You are supposed to collect the three main information: Can the requirements be met, what is the price and how long will it take to deliver (in days). All these requirements need to be provided by the vendor in chat. Do not invoke the function until you have all the information or if the vendor has rejected it. Always write your responses in form of a mail on behalf of Vishwa Singh.\",\n",
    "    tools=[{\"type\": \"function\", \"function\": function_json, \"name\": \"get_specifications\"}],\n",
    "    model=\"gpt-4-1106-preview\",)\n",
    "\n",
    "\n",
    "# mail_assistant = OpenAIAssistantRunnable.create_assistant(\n",
    "#     name=\"Mail Bot\",\n",
    "#     instructions=\"You are an AI assistant that is supposed to write a mail to the vendor asking for a quotation.\",\n",
    "#     tools=[],\n",
    "#     model=\"gpt-4-1106-preview\",\n",
    "# )"
   ]
  },
  {
   "cell_type": "code",
   "execution_count": 57,
   "metadata": {},
   "outputs": [],
   "source": [
    "output = proc_assistant.invoke({\"content\": \"Yes, we can satisfy all the requirements, but we only have blue plastic pens.\"})"
   ]
  },
  {
   "cell_type": "code",
   "execution_count": 58,
   "metadata": {},
   "outputs": [
    {
     "data": {
      "text/plain": [
       "[RequiredActionFunctionToolCall(id='call_g0YAc8BxnqZVSRadRXyjzsTS', function=Function(arguments='{\"requirements_satisfied\":true,\"unfullfiled_requirements\":\"color: not black; material: not metal\",\"quotation\":0,\"procurement_days\":0}', name='get_vendor_quotation'), type='function')]"
      ]
     },
     "execution_count": 58,
     "metadata": {},
     "output_type": "execute_result"
    }
   ],
   "source": [
    "output"
   ]
  },
  {
   "cell_type": "code",
   "execution_count": null,
   "metadata": {},
   "outputs": [],
   "source": []
  }
 ],
 "metadata": {
  "kernelspec": {
   "display_name": "Python 3",
   "language": "python",
   "name": "python3"
  },
  "language_info": {
   "codemirror_mode": {
    "name": "ipython",
    "version": 3
   },
   "file_extension": ".py",
   "mimetype": "text/x-python",
   "name": "python",
   "nbconvert_exporter": "python",
   "pygments_lexer": "ipython3",
   "version": "3.11.4"
  }
 },
 "nbformat": 4,
 "nbformat_minor": 2
}
